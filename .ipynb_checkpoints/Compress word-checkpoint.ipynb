{
 "cells": [
  {
   "cell_type": "code",
   "execution_count": null,
   "id": "70de4ad7",
   "metadata": {},
   "outputs": [],
   "source": []
  },
  {
   "cell_type": "code",
   "execution_count": 16,
   "id": "7b5bfcd0",
   "metadata": {},
   "outputs": [],
   "source": [
    "def compress(word):\n",
    "    word_length = len(word)\n",
    "    compressed_word = \"\"\n",
    "    count_middle_section = word_length - 2\n",
    "    compressed_word = word[0] + str(count_middle_section) + word[word_length - 1]\n",
    "    return compressed_word\n",
    "    "
   ]
  },
  {
   "cell_type": "code",
   "execution_count": 17,
   "id": "962052fc",
   "metadata": {},
   "outputs": [
    {
     "name": "stdout",
     "output_type": "stream",
     "text": [
      "l10n\n"
     ]
    }
   ],
   "source": [
    "print(compress(\"localization\"))"
   ]
  },
  {
   "cell_type": "code",
   "execution_count": 18,
   "id": "d8219b9c",
   "metadata": {},
   "outputs": [
    {
     "name": "stdout",
     "output_type": "stream",
     "text": [
      "i18n\n"
     ]
    }
   ],
   "source": [
    "print(compress(\"internationalization\"))"
   ]
  },
  {
   "cell_type": "code",
   "execution_count": 19,
   "id": "677437bf",
   "metadata": {},
   "outputs": [
    {
     "name": "stdout",
     "output_type": "stream",
     "text": [
      "k8s\n"
     ]
    }
   ],
   "source": [
    "print(compress(\"kubernetes\"))"
   ]
  },
  {
   "cell_type": "code",
   "execution_count": 3,
   "id": "d718133a",
   "metadata": {},
   "outputs": [],
   "source": [
    "#QUESTION 2"
   ]
  },
  {
   "cell_type": "code",
   "execution_count": 20,
   "id": "ff4beb89",
   "metadata": {},
   "outputs": [],
   "source": [
    "numbers = [1, 2, 3, 4]"
   ]
  },
  {
   "cell_type": "code",
   "execution_count": 21,
   "id": "06513e53",
   "metadata": {},
   "outputs": [],
   "source": [
    "squares = []"
   ]
  },
  {
   "cell_type": "code",
   "execution_count": 22,
   "id": "8e73fca9",
   "metadata": {},
   "outputs": [],
   "source": [
    "for n in numbers:\n",
    "        squares.append(n**2)\n"
   ]
  },
  {
   "cell_type": "code",
   "execution_count": 23,
   "id": "0480b08f",
   "metadata": {},
   "outputs": [
    {
     "name": "stdout",
     "output_type": "stream",
     "text": [
      "[1, 4, 9, 16]\n"
     ]
    }
   ],
   "source": [
    "print(squares)"
   ]
  },
  {
   "cell_type": "code",
   "execution_count": 2,
   "id": "83f2957a",
   "metadata": {},
   "outputs": [],
   "source": [
    "#ITERTOOLS COMPRESS FUNCTION\n",
    "# https://stackabuse.com/pythons-itertools-compress-dropwhile-takewhile-and-groupby/"
   ]
  },
  {
   "cell_type": "code",
   "execution_count": 6,
   "id": "67a5cafd",
   "metadata": {},
   "outputs": [
    {
     "name": "stdout",
     "output_type": "stream",
     "text": [
      "S\n",
      "A\n",
      "U\n",
      "S\n",
      "E\n"
     ]
    }
   ],
   "source": [
    "from itertools import compress\n",
    "\n",
    "word =  'STACKABUSE'\n",
    "selector = [1, 0, 1, 0, 0, 0, 0, 1, 1, 1]\n",
    "\n",
    "for each in compress(word, selector ):\n",
    "\tprint(each)"
   ]
  },
  {
   "cell_type": "code",
   "execution_count": 7,
   "id": "bd650cb8",
   "metadata": {},
   "outputs": [],
   "source": [
    "#ITERTOOLS DROPWHILE WITH LAMBDA"
   ]
  },
  {
   "cell_type": "code",
   "execution_count": 8,
   "id": "e401614a",
   "metadata": {},
   "outputs": [
    {
     "name": "stdout",
     "output_type": "stream",
     "text": [
      "[3, 4, 5, 6]\n"
     ]
    }
   ],
   "source": [
    "from itertools import dropwhile\n",
    "\n",
    "int_list = [0, 1, 2, 3, 4, 5, 6]\n",
    "result = list(dropwhile(lambda x : x < 3, int_list))\n",
    "\n",
    "print(result)"
   ]
  },
  {
   "cell_type": "code",
   "execution_count": 10,
   "id": "e10c6cf6",
   "metadata": {},
   "outputs": [
    {
     "name": "stdout",
     "output_type": "stream",
     "text": [
      "['amet']\n"
     ]
    }
   ],
   "source": [
    "#ITERTOOLS DROPWHILE WITH FUNCTION\n",
    "#The takewhile() Function works opposite way\n",
    "\n",
    "from itertools import dropwhile\n",
    "\n",
    "def doesnt_contain_character(str):\n",
    "    substring = 'a'\n",
    "    if substring in str:\n",
    "        return False\n",
    "    else:\n",
    "        return True\n",
    "        \n",
    "string_list = ['lorem', 'ipsum', 'dolor', 'sit', 'amet']\n",
    "print(list(dropwhile(doesnt_contain_character, string_list)))\n"
   ]
  },
  {
   "cell_type": "code",
   "execution_count": 13,
   "id": "36ebbb4e",
   "metadata": {},
   "outputs": [
    {
     "name": "stdout",
     "output_type": "stream",
     "text": [
      "a ['a', 'a', 'a']\n",
      "b ['b', 'b', 'b']\n",
      "c ['c', 'c']\n",
      "a ['a', 'a']\n",
      "b ['b', 'b', 'b', 'b', 'b']\n"
     ]
    }
   ],
   "source": [
    "#GROUPBY FUNCTION FROM ITERTOOLS\n",
    "#Intuitively, you might expect all instances of a and b to be clustered together, \n",
    "#but since there are clusters between them - they're separated into clusters of their own\n",
    "\n",
    "\n",
    "from itertools import groupby\n",
    "\n",
    "word = \"aaabbbccaabbbbb\"\n",
    "\n",
    "for key, group in groupby(word):\n",
    "\tprint(key, list(group))\n",
    "    "
   ]
  },
  {
   "cell_type": "code",
   "execution_count": 14,
   "id": "62dc301a",
   "metadata": {},
   "outputs": [
    {
     "name": "stdout",
     "output_type": "stream",
     "text": [
      "{'Animal': [('Animal', 'cat'), ('Animal', 'dog'), ('Animal', 'lion')]}\n",
      "{'Plant': [('Plant', 'dandellion'), ('Plant', 'blumen')]}\n"
     ]
    }
   ],
   "source": [
    "#Custom key_function, which can be a lambda or dedicated function:\n",
    "\n",
    "from itertools import groupby\n",
    "\n",
    "some_list = [(\"Animal\", \"cat\"), \n",
    "          (\"Animal\", \"dog\"),\n",
    "          (\"Animal\", \"lion\"),\n",
    "          (\"Plant\", \"dandellion\"),\n",
    "          (\"Plant\", \"blumen\")]\n",
    "  \n",
    "for key, group in groupby(some_list, lambda x : x[0]):\n",
    "    key_and_group = { key : list(group) }\n",
    "    print(key_and_group)"
   ]
  },
  {
   "cell_type": "code",
   "execution_count": null,
   "id": "448e9bf0",
   "metadata": {},
   "outputs": [],
   "source": []
  }
 ],
 "metadata": {
  "kernelspec": {
   "display_name": "Python 3 (ipykernel)",
   "language": "python",
   "name": "python3"
  },
  "language_info": {
   "codemirror_mode": {
    "name": "ipython",
    "version": 3
   },
   "file_extension": ".py",
   "mimetype": "text/x-python",
   "name": "python",
   "nbconvert_exporter": "python",
   "pygments_lexer": "ipython3",
   "version": "3.9.10"
  }
 },
 "nbformat": 4,
 "nbformat_minor": 5
}
